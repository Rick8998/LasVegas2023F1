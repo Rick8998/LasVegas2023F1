{
 "cells": [
  {
   "cell_type": "code",
   "execution_count": null,
   "metadata": {},
   "outputs": [],
   "source": [
    "import fastf1 as ff1\n",
    "import pandas as pd\n",
    "from fastf1.core import Laps\n",
    "from fastf1 import plotting\n",
    "from fastf1 import utils\n",
    "from matplotlib import pyplot as plt\n",
    "from timple.timedelta import strftimedelta\n",
    "import numpy as np\n",
    "from matplotlib.pyplot import figure\n",
    "from matplotlib.collections import LineCollection\n",
    "from matplotlib import cm\n",
    "\n",
    "fp = ff1.get_session(2023, 'Las Vegas', 'FP3')\n",
    "#fp_laps = fp.load_laps(with_telemetry=True)\n",
    "fp.load()"
   ]
  },
  {
   "cell_type": "code",
   "execution_count": null,
   "metadata": {},
   "outputs": [],
   "source": []
  }
 ],
 "metadata": {
  "kernelspec": {
   "display_name": "env",
   "language": "python",
   "name": "python3"
  },
  "language_info": {
   "codemirror_mode": {
    "name": "ipython",
    "version": 3
   },
   "file_extension": ".py",
   "mimetype": "text/x-python",
   "name": "python",
   "nbconvert_exporter": "python",
   "pygments_lexer": "ipython3",
   "version": "3.11.1"
  }
 },
 "nbformat": 4,
 "nbformat_minor": 2
}
